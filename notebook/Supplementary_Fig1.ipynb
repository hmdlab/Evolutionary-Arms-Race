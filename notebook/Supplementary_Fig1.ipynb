{
 "cells": [
  {
   "cell_type": "code",
   "execution_count": 9,
   "metadata": {},
   "outputs": [],
   "source": [
    "import pandas as pd\n",
    "import numpy as np\n",
    "import matplotlib.pyplot as plt\n",
    "import seaborn as sns\n",
    "import upsetplot\n",
    "import os\n",
    "import warnings\n",
    "warnings.simplefilter('ignore')"
   ]
  },
  {
   "cell_type": "code",
   "execution_count": 10,
   "metadata": {},
   "outputs": [],
   "source": [
    "os.makedirs('../Figure/Supplementary Figure1', exist_ok=True)"
   ]
  },
  {
   "cell_type": "markdown",
   "metadata": {},
   "source": [
    "# Load raw_data"
   ]
  },
  {
   "cell_type": "code",
   "execution_count": 11,
   "metadata": {},
   "outputs": [
    {
     "data": {
      "text/html": [
       "<div>\n",
       "<style scoped>\n",
       "    .dataframe tbody tr th:only-of-type {\n",
       "        vertical-align: middle;\n",
       "    }\n",
       "\n",
       "    .dataframe tbody tr th {\n",
       "        vertical-align: top;\n",
       "    }\n",
       "\n",
       "    .dataframe thead th {\n",
       "        text-align: right;\n",
       "    }\n",
       "</style>\n",
       "<table border=\"1\" class=\"dataframe\">\n",
       "  <thead>\n",
       "    <tr style=\"text-align: right;\">\n",
       "      <th></th>\n",
       "      <th>KZFP accession</th>\n",
       "      <th>KZFP gene symbol</th>\n",
       "      <th>KZFP experiment</th>\n",
       "      <th>KZFP dataset origin</th>\n",
       "      <th>KZFP assay</th>\n",
       "      <th>KZFP run type</th>\n",
       "      <th>KZFP Cell type</th>\n",
       "      <th>KZFP Cell type.1</th>\n",
       "      <th>KZFP control</th>\n",
       "      <th>Number of raw peak</th>\n",
       "      <th>Number of filtering peak</th>\n",
       "      <th>median of KZFP score</th>\n",
       "      <th>median of signal value</th>\n",
       "      <th>median of peak length</th>\n",
       "    </tr>\n",
       "  </thead>\n",
       "  <tbody>\n",
       "    <tr>\n",
       "      <th>0</th>\n",
       "      <td>SRR5197034</td>\n",
       "      <td>HKR1</td>\n",
       "      <td>GSE78099</td>\n",
       "      <td>Tronolab</td>\n",
       "      <td>ChIP-exo</td>\n",
       "      <td>single-ended</td>\n",
       "      <td>HEK293</td>\n",
       "      <td>HEK293</td>\n",
       "      <td>True</td>\n",
       "      <td>432</td>\n",
       "      <td>307.0</td>\n",
       "      <td>98.0</td>\n",
       "      <td>8.13530</td>\n",
       "      <td>162.0</td>\n",
       "    </tr>\n",
       "    <tr>\n",
       "      <th>1</th>\n",
       "      <td>SRR5197035</td>\n",
       "      <td>PRDM9</td>\n",
       "      <td>GSE78099</td>\n",
       "      <td>Tronolab</td>\n",
       "      <td>ChIP-exo</td>\n",
       "      <td>single-ended</td>\n",
       "      <td>HEK293</td>\n",
       "      <td>HEK293</td>\n",
       "      <td>True</td>\n",
       "      <td>1496653</td>\n",
       "      <td>408003.0</td>\n",
       "      <td>70.0</td>\n",
       "      <td>5.51505</td>\n",
       "      <td>119.0</td>\n",
       "    </tr>\n",
       "    <tr>\n",
       "      <th>2</th>\n",
       "      <td>SRR5197036</td>\n",
       "      <td>RBAK</td>\n",
       "      <td>GSE78099</td>\n",
       "      <td>Tronolab</td>\n",
       "      <td>ChIP-exo</td>\n",
       "      <td>single-ended</td>\n",
       "      <td>HEK293</td>\n",
       "      <td>HEK293</td>\n",
       "      <td>True</td>\n",
       "      <td>1237</td>\n",
       "      <td>716.0</td>\n",
       "      <td>85.0</td>\n",
       "      <td>7.76903</td>\n",
       "      <td>158.5</td>\n",
       "    </tr>\n",
       "    <tr>\n",
       "      <th>3</th>\n",
       "      <td>SRR5197037</td>\n",
       "      <td>ZFP14</td>\n",
       "      <td>GSE78099</td>\n",
       "      <td>Tronolab</td>\n",
       "      <td>ChIP-exo</td>\n",
       "      <td>single-ended</td>\n",
       "      <td>HEK293</td>\n",
       "      <td>HEK293</td>\n",
       "      <td>True</td>\n",
       "      <td>1934</td>\n",
       "      <td>899.0</td>\n",
       "      <td>83.0</td>\n",
       "      <td>7.90011</td>\n",
       "      <td>153.0</td>\n",
       "    </tr>\n",
       "    <tr>\n",
       "      <th>4</th>\n",
       "      <td>SRR5197038</td>\n",
       "      <td>ZFP1</td>\n",
       "      <td>GSE78099</td>\n",
       "      <td>Tronolab</td>\n",
       "      <td>ChIP-exo</td>\n",
       "      <td>single-ended</td>\n",
       "      <td>HEK293</td>\n",
       "      <td>HEK293</td>\n",
       "      <td>True</td>\n",
       "      <td>146</td>\n",
       "      <td>69.0</td>\n",
       "      <td>81.0</td>\n",
       "      <td>7.95009</td>\n",
       "      <td>118.0</td>\n",
       "    </tr>\n",
       "  </tbody>\n",
       "</table>\n",
       "</div>"
      ],
      "text/plain": [
       "  KZFP accession KZFP gene symbol KZFP experiment KZFP dataset origin  \\\n",
       "0     SRR5197034             HKR1        GSE78099            Tronolab   \n",
       "1     SRR5197035            PRDM9        GSE78099            Tronolab   \n",
       "2     SRR5197036             RBAK        GSE78099            Tronolab   \n",
       "3     SRR5197037            ZFP14        GSE78099            Tronolab   \n",
       "4     SRR5197038             ZFP1        GSE78099            Tronolab   \n",
       "\n",
       "  KZFP assay KZFP run type KZFP Cell type KZFP Cell type.1  KZFP control  \\\n",
       "0   ChIP-exo  single-ended         HEK293           HEK293          True   \n",
       "1   ChIP-exo  single-ended         HEK293           HEK293          True   \n",
       "2   ChIP-exo  single-ended         HEK293           HEK293          True   \n",
       "3   ChIP-exo  single-ended         HEK293           HEK293          True   \n",
       "4   ChIP-exo  single-ended         HEK293           HEK293          True   \n",
       "\n",
       "   Number of raw peak  Number of filtering peak  median of KZFP score  \\\n",
       "0                 432                     307.0                  98.0   \n",
       "1             1496653                  408003.0                  70.0   \n",
       "2                1237                     716.0                  85.0   \n",
       "3                1934                     899.0                  83.0   \n",
       "4                 146                      69.0                  81.0   \n",
       "\n",
       "   median of signal value  median of peak length  \n",
       "0                 8.13530                  162.0  \n",
       "1                 5.51505                  119.0  \n",
       "2                 7.76903                  158.5  \n",
       "3                 7.90011                  153.0  \n",
       "4                 7.95009                  118.0  "
      ]
     },
     "metadata": {},
     "output_type": "display_data"
    }
   ],
   "source": [
    "# KZFP ChIP-seq metadata\n",
    "KZFP_metadata = pd.read_csv('../data/ChIP-seq/KZFP_ChIP-seq_metadata.csv')\n",
    "display(KZFP_metadata.head())"
   ]
  },
  {
   "cell_type": "code",
   "execution_count": 12,
   "metadata": {},
   "outputs": [
    {
     "data": {
      "text/html": [
       "<div>\n",
       "<style scoped>\n",
       "    .dataframe tbody tr th:only-of-type {\n",
       "        vertical-align: middle;\n",
       "    }\n",
       "\n",
       "    .dataframe tbody tr th {\n",
       "        vertical-align: top;\n",
       "    }\n",
       "\n",
       "    .dataframe thead th {\n",
       "        text-align: right;\n",
       "    }\n",
       "</style>\n",
       "<table border=\"1\" class=\"dataframe\">\n",
       "  <thead>\n",
       "    <tr style=\"text-align: right;\">\n",
       "      <th></th>\n",
       "      <th>gene_name</th>\n",
       "      <th>gene_id</th>\n",
       "      <th>classification (Genome research)</th>\n",
       "      <th>Age</th>\n",
       "      <th>Age (Genome research)</th>\n",
       "      <th>Age adjusted</th>\n",
       "      <th>Species</th>\n",
       "      <th>KRAB domain</th>\n",
       "      <th>interactK1</th>\n",
       "      <th>interact with</th>\n",
       "      <th>Number of ZNFs</th>\n",
       "      <th>z_C2H2_miss</th>\n",
       "      <th>cluster</th>\n",
       "    </tr>\n",
       "  </thead>\n",
       "  <tbody>\n",
       "    <tr>\n",
       "      <th>PRDM7</th>\n",
       "      <td>NaN</td>\n",
       "      <td>NaN</td>\n",
       "      <td>protein_coding</td>\n",
       "      <td>NaN</td>\n",
       "      <td>352.0</td>\n",
       "      <td>352.0</td>\n",
       "      <td>NaN</td>\n",
       "      <td>NaN</td>\n",
       "      <td>NaN</td>\n",
       "      <td>NaN</td>\n",
       "      <td>NaN</td>\n",
       "      <td>NaN</td>\n",
       "      <td>noCluster</td>\n",
       "    </tr>\n",
       "    <tr>\n",
       "      <th>ZNF705A</th>\n",
       "      <td>ZNF705A</td>\n",
       "      <td>ENSG00000196946</td>\n",
       "      <td>protein_coding</td>\n",
       "      <td>0.0</td>\n",
       "      <td>312.0</td>\n",
       "      <td>312.0</td>\n",
       "      <td>Human</td>\n",
       "      <td>NaN</td>\n",
       "      <td>Not in database</td>\n",
       "      <td>Not in database</td>\n",
       "      <td>3.0</td>\n",
       "      <td>-0.910143</td>\n",
       "      <td>noCluster</td>\n",
       "    </tr>\n",
       "    <tr>\n",
       "      <th>ZNF705B</th>\n",
       "      <td>ZNF705B</td>\n",
       "      <td>ENSG00000215356</td>\n",
       "      <td>protein_coding</td>\n",
       "      <td>0.0</td>\n",
       "      <td>312.0</td>\n",
       "      <td>312.0</td>\n",
       "      <td>Human</td>\n",
       "      <td>NaN</td>\n",
       "      <td>Not in database</td>\n",
       "      <td>Not in database</td>\n",
       "      <td>3.0</td>\n",
       "      <td>NaN</td>\n",
       "      <td>noCluster</td>\n",
       "    </tr>\n",
       "    <tr>\n",
       "      <th>ZNF705G</th>\n",
       "      <td>ZNF705G</td>\n",
       "      <td>ENSG00000215372</td>\n",
       "      <td>protein_coding</td>\n",
       "      <td>0.0</td>\n",
       "      <td>312.0</td>\n",
       "      <td>312.0</td>\n",
       "      <td>Human</td>\n",
       "      <td>NaN</td>\n",
       "      <td>Not in database</td>\n",
       "      <td>Not in database</td>\n",
       "      <td>2.0</td>\n",
       "      <td>6.659968</td>\n",
       "      <td>noCluster</td>\n",
       "    </tr>\n",
       "    <tr>\n",
       "      <th>ZNF212</th>\n",
       "      <td>ZNF212</td>\n",
       "      <td>ENSG00000170260</td>\n",
       "      <td>protein_coding</td>\n",
       "      <td>179.2</td>\n",
       "      <td>312.1</td>\n",
       "      <td>312.0</td>\n",
       "      <td>Platypus</td>\n",
       "      <td>NaN</td>\n",
       "      <td>NO</td>\n",
       "      <td>NaN</td>\n",
       "      <td>3.0</td>\n",
       "      <td>-0.910143</td>\n",
       "      <td>chr7.3</td>\n",
       "    </tr>\n",
       "  </tbody>\n",
       "</table>\n",
       "</div>"
      ],
      "text/plain": [
       "        gene_name          gene_id classification (Genome research)    Age  \\\n",
       "PRDM7         NaN              NaN                   protein_coding    NaN   \n",
       "ZNF705A   ZNF705A  ENSG00000196946                   protein_coding    0.0   \n",
       "ZNF705B   ZNF705B  ENSG00000215356                   protein_coding    0.0   \n",
       "ZNF705G   ZNF705G  ENSG00000215372                   protein_coding    0.0   \n",
       "ZNF212     ZNF212  ENSG00000170260                   protein_coding  179.2   \n",
       "\n",
       "         Age (Genome research)  Age adjusted   Species KRAB domain  \\\n",
       "PRDM7                    352.0         352.0       NaN         NaN   \n",
       "ZNF705A                  312.0         312.0     Human         NaN   \n",
       "ZNF705B                  312.0         312.0     Human         NaN   \n",
       "ZNF705G                  312.0         312.0     Human         NaN   \n",
       "ZNF212                   312.1         312.0  Platypus         NaN   \n",
       "\n",
       "              interactK1    interact with  Number of ZNFs  z_C2H2_miss  \\\n",
       "PRDM7                NaN              NaN             NaN          NaN   \n",
       "ZNF705A  Not in database  Not in database             3.0    -0.910143   \n",
       "ZNF705B  Not in database  Not in database             3.0          NaN   \n",
       "ZNF705G  Not in database  Not in database             2.0     6.659968   \n",
       "ZNF212                NO              NaN             3.0    -0.910143   \n",
       "\n",
       "           cluster  \n",
       "PRDM7    noCluster  \n",
       "ZNF705A  noCluster  \n",
       "ZNF705B  noCluster  \n",
       "ZNF705G  noCluster  \n",
       "ZNF212      chr7.3  "
      ]
     },
     "metadata": {},
     "output_type": "display_data"
    }
   ],
   "source": [
    "# KZFP metadata\n",
    "KZFP_dataset_df = pd.read_csv('../data/ChIP-seq/KZFP_metadata.csv', index_col=0)\n",
    "display(KZFP_dataset_df.head())"
   ]
  },
  {
   "cell_type": "markdown",
   "metadata": {},
   "source": [
    "# Supplementary Fig.1A"
   ]
  },
  {
   "cell_type": "code",
   "execution_count": 13,
   "metadata": {},
   "outputs": [
    {
     "data": {
      "text/plain": [
       "array([361,  17])"
      ]
     },
     "execution_count": 13,
     "metadata": {},
     "output_type": "execute_result"
    },
    {
     "data": {
      "image/png": "[encoded data removed]",
      "text/plain": [
       "<Figure size 640x480 with 1 Axes>"
      ]
     },
     "metadata": {},
     "output_type": "display_data"
    }
   ],
   "source": [
    "fig = plt.figure()\n",
    "\n",
    "KZFP_dataset_df_protein = KZFP_dataset_df[(KZFP_dataset_df['classification (Genome research)']=='protein_coding')]\n",
    "KZFP_metadata_fil = KZFP_metadata[KZFP_metadata['KZFP gene symbol'].isin(KZFP_dataset_df_protein.index)]\n",
    "data = KZFP_dataset_df_protein.index.to_frame()[0].isin(KZFP_metadata_fil['KZFP gene symbol']).value_counts()\n",
    "value = data.values\n",
    "plt.pie(value, counterclock=False, startangle=90, colors=['red', 'black'])\n",
    "\n",
    "plt.savefig('../Figure/Supplementary Figure1/Supplementary Figure1A.png', bbox_inches='tight', dpi=300)\n",
    "fig.savefig('../Figure/Supplementary Figure1/Supplementary Figure1A.pdf', bbox_inches='tight', transparent=True, dpi=300)\n",
    "data.values\n"
   ]
  },
  {
   "cell_type": "markdown",
   "metadata": {},
   "source": [
    "# Supplementary Fig.1B"
   ]
  },
  {
   "cell_type": "code",
   "execution_count": 14,
   "metadata": {},
   "outputs": [
    {
     "name": "stdout",
     "output_type": "stream",
     "text": [
      "497 378\n",
      "1121 1051\n"
     ]
    }
   ],
   "source": [
    "KZFP_dataset_df_protein = KZFP_dataset_df[(KZFP_dataset_df['classification (Genome research)']=='protein_coding')]\n",
    "print(len(KZFP_dataset_df), len(KZFP_dataset_df_protein))\n",
    "\n",
    "KZFP_metadata_fil = KZFP_metadata[KZFP_metadata['KZFP gene symbol'].isin(KZFP_dataset_df_protein.index)]\n",
    "print(len(KZFP_metadata), len(KZFP_metadata_fil))"
   ]
  },
  {
   "cell_type": "code",
   "execution_count": 15,
   "metadata": {},
   "outputs": [],
   "source": [
    "experiment_list = pd.DataFrame(np.where(KZFP_metadata_fil['KZFP dataset origin']=='ENCODE', 'ENCODE', KZFP_metadata_fil['KZFP experiment']), columns=['experiment'])\n",
    "crosstab = pd.crosstab(KZFP_metadata_fil['KZFP gene symbol'].values, experiment_list['experiment'])\n",
    "upset = (crosstab>=1).value_counts()"
   ]
  },
  {
   "cell_type": "code",
   "execution_count": 16,
   "metadata": {},
   "outputs": [
    {
     "data": {
      "text/plain": [
       "<Figure size 640x480 with 0 Axes>"
      ]
     },
     "metadata": {},
     "output_type": "display_data"
    },
    {
     "data": {
      "image/png": "[encoded data removed]",
      "text/plain": [
       "<Figure size 755.556x533.333 with 4 Axes>"
      ]
     },
     "metadata": {},
     "output_type": "display_data"
    }
   ],
   "source": [
    "fig = plt.figure()\n",
    "plt.rcParams[\"font.family\"] = \"Arial\"\n",
    "plt.rcParams[\"font.size\"] = 12\n",
    "\n",
    "upsetplot.plot(upset, sort_by='cardinality', sort_categories_by='-cardinality', min_degree=1, min_subset_size=5, facecolor='black', with_lines=True, show_counts=True)\n",
    "\n",
    "plt.rcParams[\"font.family\"] = \"Arial\"\n",
    "plt.savefig('../Figure/Supplementary Figure1/Supplementary Figure1B.png', bbox_inches='tight', dpi=300)\n",
    "plt.savefig('../Figure/Supplementary Figure1/Supplementary Figure1B.pdf', bbox_inches='tight', transparent=True, dpi=300)\n"
   ]
  },
  {
   "cell_type": "code",
   "execution_count": null,
   "metadata": {},
   "outputs": [],
   "source": []
  }
 ],
 "metadata": {
  "kernelspec": {
   "display_name": "base",
   "language": "python",
   "name": "python3"
  },
  "language_info": {
   "codemirror_mode": {
    "name": "ipython",
    "version": 3
   },
   "file_extension": ".py",
   "mimetype": "text/x-python",
   "name": "python",
   "nbconvert_exporter": "python",
   "pygments_lexer": "ipython3",
   "version": "3.9.13"
  }
 },
 "nbformat": 4,
 "nbformat_minor": 2
}
