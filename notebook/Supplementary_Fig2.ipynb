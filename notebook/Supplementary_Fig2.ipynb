{
 "cells": [
  {
   "cell_type": "code",
   "execution_count": 1,
   "metadata": {},
   "outputs": [],
   "source": [
    "import pandas as pd\n",
    "import numpy as np\n",
    "import matplotlib.pyplot as plt\n",
    "import seaborn as sns\n",
    "from scipy.stats import spearmanr\n",
    "import os\n",
    "import warnings\n",
    "warnings.simplefilter('ignore')"
   ]
  },
  {
   "cell_type": "code",
   "execution_count": 2,
   "metadata": {},
   "outputs": [],
   "source": [
    "os.makedirs('../Figure/Supplementary Figure2', exist_ok=True)"
   ]
  },
  {
   "cell_type": "markdown",
   "metadata": {},
   "source": [
    "# Load raw_data"
   ]
  },
  {
   "cell_type": "code",
   "execution_count": 3,
   "metadata": {},
   "outputs": [
    {
     "name": "stdout",
     "output_type": "stream",
     "text": [
      "1170\n"
     ]
    }
   ],
   "source": [
    "# TE metadata in 1st step\n",
    "Dfam_RM_family = pd.read_csv('../data/TE/TE_metadata_1st.csv')\n",
    "Dfam_RM_family.index = Dfam_RM_family['repeat subfamily name']\n",
    "Dfam_RM_family_dict = Dfam_RM_family.to_dict()\n",
    "\n",
    "TE_class_list = ['DNA', 'ERV/LTR', 'ERV/Int', 'LINE', 'SINE', 'Retroposon']\n",
    "Dfam_RM_family_fil = Dfam_RM_family[Dfam_RM_family['repeat class'].isin(TE_class_list)]\n",
    "print(len(Dfam_RM_family_fil))"
   ]
  },
  {
   "cell_type": "code",
   "execution_count": 4,
   "metadata": {},
   "outputs": [
    {
     "data": {
      "text/html": [
       "<div>\n",
       "<style scoped>\n",
       "    .dataframe tbody tr th:only-of-type {\n",
       "        vertical-align: middle;\n",
       "    }\n",
       "\n",
       "    .dataframe tbody tr th {\n",
       "        vertical-align: top;\n",
       "    }\n",
       "\n",
       "    .dataframe thead th {\n",
       "        text-align: right;\n",
       "    }\n",
       "</style>\n",
       "<table border=\"1\" class=\"dataframe\">\n",
       "  <thead>\n",
       "    <tr style=\"text-align: right;\">\n",
       "      <th></th>\n",
       "      <th>repeat chr</th>\n",
       "      <th>repeat start</th>\n",
       "      <th>repeat end</th>\n",
       "      <th>repeat name</th>\n",
       "      <th>repeat score</th>\n",
       "      <th>repeat strand</th>\n",
       "      <th>repeat family name</th>\n",
       "      <th>repeat subfamily name</th>\n",
       "      <th>repeat adjusted subfamily name</th>\n",
       "      <th>repeat class</th>\n",
       "      <th>...</th>\n",
       "      <th>repeat alignment length</th>\n",
       "      <th>repeat no alignment length</th>\n",
       "      <th>repeat consequence length</th>\n",
       "      <th>repeat alignment ratio</th>\n",
       "      <th>repeat no alignment ratio</th>\n",
       "      <th>repeat length filtering</th>\n",
       "      <th>repeat zerocoverage filtering</th>\n",
       "      <th>repeat filtering</th>\n",
       "      <th>repeat best cluster name</th>\n",
       "      <th>repeat adjusted cluster name</th>\n",
       "    </tr>\n",
       "  </thead>\n",
       "  <tbody>\n",
       "    <tr>\n",
       "      <th>13</th>\n",
       "      <td>chr1</td>\n",
       "      <td>30343</td>\n",
       "      <td>30532</td>\n",
       "      <td>MER53_chr1_dup1</td>\n",
       "      <td>1007</td>\n",
       "      <td>-</td>\n",
       "      <td>MER53</td>\n",
       "      <td>MER53</td>\n",
       "      <td>MER53_4</td>\n",
       "      <td>DNA</td>\n",
       "      <td>...</td>\n",
       "      <td>186</td>\n",
       "      <td>3</td>\n",
       "      <td>193</td>\n",
       "      <td>0.963731</td>\n",
       "      <td>0.015544</td>\n",
       "      <td>True</td>\n",
       "      <td>True</td>\n",
       "      <td>True</td>\n",
       "      <td>MER53_4</td>\n",
       "      <td>MER53_4</td>\n",
       "    </tr>\n",
       "    <tr>\n",
       "      <th>30</th>\n",
       "      <td>chr1</td>\n",
       "      <td>38256</td>\n",
       "      <td>39464</td>\n",
       "      <td>MLT1F-int_chr1_dup1</td>\n",
       "      <td>1791/2518</td>\n",
       "      <td>+</td>\n",
       "      <td>MLT1-int</td>\n",
       "      <td>MLT1F-int</td>\n",
       "      <td>MLT1F-int</td>\n",
       "      <td>ERV/LTR</td>\n",
       "      <td>...</td>\n",
       "      <td>1192</td>\n",
       "      <td>16</td>\n",
       "      <td>1489</td>\n",
       "      <td>0.800537</td>\n",
       "      <td>0.010745</td>\n",
       "      <td>True</td>\n",
       "      <td>True</td>\n",
       "      <td>True</td>\n",
       "      <td>MLT1-int_1</td>\n",
       "      <td>MLT1-int_2</td>\n",
       "    </tr>\n",
       "    <tr>\n",
       "      <th>46</th>\n",
       "      <td>chr1</td>\n",
       "      <td>46553</td>\n",
       "      <td>46722</td>\n",
       "      <td>MER45A_chr1_dup1</td>\n",
       "      <td>689</td>\n",
       "      <td>+</td>\n",
       "      <td>MER45</td>\n",
       "      <td>MER45A</td>\n",
       "      <td>MER45A</td>\n",
       "      <td>DNA</td>\n",
       "      <td>...</td>\n",
       "      <td>168</td>\n",
       "      <td>1</td>\n",
       "      <td>178</td>\n",
       "      <td>0.943820</td>\n",
       "      <td>0.005618</td>\n",
       "      <td>True</td>\n",
       "      <td>True</td>\n",
       "      <td>True</td>\n",
       "      <td>MER45_0</td>\n",
       "      <td>MER45_0</td>\n",
       "    </tr>\n",
       "    <tr>\n",
       "      <th>54</th>\n",
       "      <td>chr1</td>\n",
       "      <td>60379</td>\n",
       "      <td>60686</td>\n",
       "      <td>MER47A_chr1_dup1</td>\n",
       "      <td>1452</td>\n",
       "      <td>-</td>\n",
       "      <td>MER47</td>\n",
       "      <td>MER47A</td>\n",
       "      <td>MER47A</td>\n",
       "      <td>DNA</td>\n",
       "      <td>...</td>\n",
       "      <td>307</td>\n",
       "      <td>0</td>\n",
       "      <td>366</td>\n",
       "      <td>0.838798</td>\n",
       "      <td>0.000000</td>\n",
       "      <td>True</td>\n",
       "      <td>True</td>\n",
       "      <td>True</td>\n",
       "      <td>MER47_0</td>\n",
       "      <td>MER47_1</td>\n",
       "    </tr>\n",
       "    <tr>\n",
       "      <th>128</th>\n",
       "      <td>chr1</td>\n",
       "      <td>109836</td>\n",
       "      <td>110009</td>\n",
       "      <td>FAM_chr1_dup1</td>\n",
       "      <td>938</td>\n",
       "      <td>-</td>\n",
       "      <td>FAM</td>\n",
       "      <td>FAM</td>\n",
       "      <td>FAM_4</td>\n",
       "      <td>SINE</td>\n",
       "      <td>...</td>\n",
       "      <td>168</td>\n",
       "      <td>5</td>\n",
       "      <td>185</td>\n",
       "      <td>0.908108</td>\n",
       "      <td>0.027027</td>\n",
       "      <td>True</td>\n",
       "      <td>True</td>\n",
       "      <td>True</td>\n",
       "      <td>FAM_1</td>\n",
       "      <td>FAM_4</td>\n",
       "    </tr>\n",
       "  </tbody>\n",
       "</table>\n",
       "<p>5 rows × 25 columns</p>\n",
       "</div>"
      ],
      "text/plain": [
       "    repeat chr  repeat start  repeat end          repeat name repeat score  \\\n",
       "13        chr1         30343       30532      MER53_chr1_dup1         1007   \n",
       "30        chr1         38256       39464  MLT1F-int_chr1_dup1    1791/2518   \n",
       "46        chr1         46553       46722     MER45A_chr1_dup1          689   \n",
       "54        chr1         60379       60686     MER47A_chr1_dup1         1452   \n",
       "128       chr1        109836      110009        FAM_chr1_dup1          938   \n",
       "\n",
       "    repeat strand repeat family name repeat subfamily name  \\\n",
       "13              -              MER53                 MER53   \n",
       "30              +           MLT1-int             MLT1F-int   \n",
       "46              +              MER45                MER45A   \n",
       "54              -              MER47                MER47A   \n",
       "128             -                FAM                   FAM   \n",
       "\n",
       "    repeat adjusted subfamily name repeat class  ... repeat alignment length  \\\n",
       "13                         MER53_4          DNA  ...                     186   \n",
       "30                       MLT1F-int      ERV/LTR  ...                    1192   \n",
       "46                          MER45A          DNA  ...                     168   \n",
       "54                          MER47A          DNA  ...                     307   \n",
       "128                          FAM_4         SINE  ...                     168   \n",
       "\n",
       "     repeat no alignment length  repeat consequence length  \\\n",
       "13                            3                        193   \n",
       "30                           16                       1489   \n",
       "46                            1                        178   \n",
       "54                            0                        366   \n",
       "128                           5                        185   \n",
       "\n",
       "     repeat alignment ratio  repeat no alignment ratio  \\\n",
       "13                 0.963731                   0.015544   \n",
       "30                 0.800537                   0.010745   \n",
       "46                 0.943820                   0.005618   \n",
       "54                 0.838798                   0.000000   \n",
       "128                0.908108                   0.027027   \n",
       "\n",
       "     repeat length filtering  repeat zerocoverage filtering  repeat filtering  \\\n",
       "13                      True                           True              True   \n",
       "30                      True                           True              True   \n",
       "46                      True                           True              True   \n",
       "54                      True                           True              True   \n",
       "128                     True                           True              True   \n",
       "\n",
       "     repeat best cluster name  repeat adjusted cluster name  \n",
       "13                    MER53_4                       MER53_4  \n",
       "30                 MLT1-int_1                    MLT1-int_2  \n",
       "46                    MER45_0                       MER45_0  \n",
       "54                    MER47_0                       MER47_1  \n",
       "128                     FAM_1                         FAM_4  \n",
       "\n",
       "[5 rows x 25 columns]"
      ]
     },
     "execution_count": 4,
     "metadata": {},
     "output_type": "execute_result"
    }
   ],
   "source": [
    "# TE annotation in 1st step\n",
    "Dfam_RM_1st_step = pd.read_csv('../data/TE/TE_annotation_1st.csv')\n",
    "Dfam_RM_1st_step_fil = Dfam_RM_1st_step[Dfam_RM_1st_step['repeat adjusted cluster name'].isna()==False].copy()\n",
    "Dfam_RM_1st_step_fil.head()"
   ]
  },
  {
   "cell_type": "code",
   "execution_count": 10,
   "metadata": {},
   "outputs": [
    {
     "data": {
      "text/html": [
       "<div>\n",
       "<style scoped>\n",
       "    .dataframe tbody tr th:only-of-type {\n",
       "        vertical-align: middle;\n",
       "    }\n",
       "\n",
       "    .dataframe tbody tr th {\n",
       "        vertical-align: top;\n",
       "    }\n",
       "\n",
       "    .dataframe thead th {\n",
       "        text-align: right;\n",
       "    }\n",
       "</style>\n",
       "<table border=\"1\" class=\"dataframe\">\n",
       "  <thead>\n",
       "    <tr style=\"text-align: right;\">\n",
       "      <th></th>\n",
       "      <th>repeat family name</th>\n",
       "      <th>subfamily count</th>\n",
       "      <th>score</th>\n",
       "      <th>best_K</th>\n",
       "      <th>adjusted_K</th>\n",
       "      <th>silhouettes</th>\n",
       "      <th>repeat class</th>\n",
       "    </tr>\n",
       "  </thead>\n",
       "  <tbody>\n",
       "    <tr>\n",
       "      <th>0</th>\n",
       "      <td>5S</td>\n",
       "      <td>1.0</td>\n",
       "      <td>NaN</td>\n",
       "      <td>NaN</td>\n",
       "      <td>NaN</td>\n",
       "      <td>NaN</td>\n",
       "      <td>rRNA</td>\n",
       "    </tr>\n",
       "    <tr>\n",
       "      <th>1</th>\n",
       "      <td>7SK</td>\n",
       "      <td>1.0</td>\n",
       "      <td>NaN</td>\n",
       "      <td>NaN</td>\n",
       "      <td>NaN</td>\n",
       "      <td>NaN</td>\n",
       "      <td>snRNA</td>\n",
       "    </tr>\n",
       "    <tr>\n",
       "      <th>2</th>\n",
       "      <td>7SLRNA</td>\n",
       "      <td>1.0</td>\n",
       "      <td>NaN</td>\n",
       "      <td>2.0</td>\n",
       "      <td>2.0</td>\n",
       "      <td>0.582791</td>\n",
       "      <td>SINE</td>\n",
       "    </tr>\n",
       "    <tr>\n",
       "      <th>3</th>\n",
       "      <td>ACRO1</td>\n",
       "      <td>1.0</td>\n",
       "      <td>NaN</td>\n",
       "      <td>NaN</td>\n",
       "      <td>NaN</td>\n",
       "      <td>NaN</td>\n",
       "      <td>Satellite</td>\n",
       "    </tr>\n",
       "    <tr>\n",
       "      <th>4</th>\n",
       "      <td>ALR</td>\n",
       "      <td>3.0</td>\n",
       "      <td>0.03739</td>\n",
       "      <td>NaN</td>\n",
       "      <td>NaN</td>\n",
       "      <td>NaN</td>\n",
       "      <td>Satellite</td>\n",
       "    </tr>\n",
       "  </tbody>\n",
       "</table>\n",
       "</div>"
      ],
      "text/plain": [
       "  repeat family name  subfamily count    score  best_K  adjusted_K  \\\n",
       "0                 5S              1.0      NaN     NaN         NaN   \n",
       "1                7SK              1.0      NaN     NaN         NaN   \n",
       "2             7SLRNA              1.0      NaN     2.0         2.0   \n",
       "3              ACRO1              1.0      NaN     NaN         NaN   \n",
       "4                ALR              3.0  0.03739     NaN         NaN   \n",
       "\n",
       "   silhouettes repeat class  \n",
       "0          NaN         rRNA  \n",
       "1          NaN        snRNA  \n",
       "2     0.582791         SINE  \n",
       "3          NaN    Satellite  \n",
       "4          NaN    Satellite  "
      ]
     },
     "execution_count": 10,
     "metadata": {},
     "output_type": "execute_result"
    }
   ],
   "source": [
    "# summary of subfamily classification\n",
    "score_df = pd.read_csv('../data/subfamily classification/clustering_summary.csv')\n",
    "score_df.head()"
   ]
  },
  {
   "cell_type": "markdown",
   "metadata": {},
   "source": [
    "## Supplementary Fig.2A"
   ]
  },
  {
   "cell_type": "code",
   "execution_count": 6,
   "metadata": {},
   "outputs": [
    {
     "data": {
      "text/plain": [
       "array([344, 189])"
      ]
     },
     "execution_count": 6,
     "metadata": {},
     "output_type": "execute_result"
    },
    {
     "data": {
      "image/png": "[encoded data removed]",
      "text/plain": [
       "<Figure size 640x480 with 1 Axes>"
      ]
     },
     "metadata": {},
     "output_type": "display_data"
    }
   ],
   "source": [
    "# with subfamily classification?\n",
    "\n",
    "fig = plt.figure()\n",
    "plt.rcParams[\"font.family\"] = \"Arial\"\n",
    "plt.rcParams[\"font.size\"] = 12\n",
    "\n",
    "count = Dfam_RM_family_fil['repeat family name'].value_counts()\n",
    "data = (count>=2).value_counts()\n",
    "\n",
    "value = [data[True], data[False]]\n",
    "\n",
    "plt.pie(value, counterclock=False, startangle=90, colors=['red', 'black'])\n",
    "\n",
    "plt.savefig('../Figure/Supplementary Figure2/Supplementary Figure2A.png', bbox_inches='tight', dpi=300)\n",
    "plt.savefig('../Figure/Supplementary Figure2/Supplementary Figure2A.pdf', bbox_inches='tight', transparent=True, dpi=300)\n",
    "\n",
    "data.values"
   ]
  },
  {
   "cell_type": "markdown",
   "metadata": {},
   "source": [
    "## Supplementary Fig.2B"
   ]
  },
  {
   "cell_type": "code",
   "execution_count": 11,
   "metadata": {},
   "outputs": [
    {
     "name": "stdout",
     "output_type": "stream",
     "text": [
      "SignificanceResult(statistic=0.6590025359943342, pvalue=1.530188083536186e-21)\n"
     ]
    },
    {
     "data": {
      "image/png": "[encoded data removed]",
      "text/plain": [
       "<Figure size 500x350 with 1 Axes>"
      ]
     },
     "metadata": {},
     "output_type": "display_data"
    }
   ],
   "source": [
    "# clusteirng similarity\n",
    "plt.figure(figsize=[5, 3.5])\n",
    "ax = plt.subplot()\n",
    "plt.rcParams[\"font.family\"] = \"Arial\"\n",
    "plt.rcParams[\"font.size\"] = 12\n",
    "\n",
    "TE_class_list = ['LINE', 'SINE', 'DNA', 'ERV/LTR', 'Retroposon']\n",
    "data = score_df[score_df['repeat class'].isin(TE_class_list)].dropna()\n",
    "x = data['silhouettes']\n",
    "y = data['score']\n",
    "hue = data['repeat class']\n",
    "hue_order = ['DNA', 'ERV/LTR', 'LINE', 'SINE', 'Retroposon']\n",
    "\n",
    "p = sns.scatterplot(x=x, y=y, hue=hue, hue_order=hue_order, s=12)\n",
    "plt.vlines(0.6, -0.15, 1.05, colors='grey', linestyles='dashed')\n",
    "\n",
    "print(spearmanr(x, y))\n",
    "\n",
    "\n",
    "plt.ylim(-0.15, 1.05)\n",
    "plt.legend(loc=[1.02, 0])\n",
    "#plt.xlabel('the average sihouette coefficient')\n",
    "#plt.ylabel('ARI score')\n",
    "plt.xlabel('')\n",
    "plt.ylabel('')\n",
    "\n",
    "p.spines['right'].set_visible(False)\n",
    "p.spines['top'].set_visible(False)\n",
    "plt.legend(frameon=False, loc=[1.00, 0])\n",
    "\n",
    "plt.savefig('../Figure/Supplementary Figure2/Supplementary Figure2B.png', bbox_inches='tight', dpi=300)\n",
    "plt.savefig('../Figure/Supplementary Figure2/Supplementary Figure2B.pdf', bbox_inches='tight', transparent=True, dpi=300)\n"
   ]
  },
  {
   "cell_type": "markdown",
   "metadata": {},
   "source": [
    "## Supplementary Fig.2C"
   ]
  },
  {
   "cell_type": "code",
   "execution_count": 12,
   "metadata": {},
   "outputs": [
    {
     "name": "stdout",
     "output_type": "stream",
     "text": [
      "59 174\n"
     ]
    },
    {
     "data": {
      "image/png": "[encoded data removed]",
      "text/plain": [
       "<Figure size 500x350 with 1 Axes>"
      ]
     },
     "metadata": {},
     "output_type": "display_data"
    }
   ],
   "source": [
    "# the average silhouettes efficient of TE families without subfamily classification \n",
    "plt.figure(figsize=[5, 3.5])\n",
    "ax = plt.subplot()\n",
    "plt.rcParams[\"font.family\"] = \"Arial\"\n",
    "plt.rcParams[\"font.size\"] = 12\n",
    "\n",
    "data = score_df[(score_df['score'].isna()) & (score_df['repeat class'].isin(TE_class_list))].sort_values(by='silhouettes', ascending=False)\n",
    "\n",
    "x = range(len(data))\n",
    "y = data['silhouettes']\n",
    "hue = data['repeat class']\n",
    "hue_order = ['DNA', 'ERV/LTR', 'LINE', 'SINE', 'Retroposon']\n",
    "\n",
    "p = sns.scatterplot(x=x, y=y, hue=hue, hue_order=hue_order, s=12, linewidth=0)\n",
    "plt.hlines(0.6, -3, len(data)+2, colors='grey', linestyles='dashed')\n",
    "\n",
    "print(len(data[data['silhouettes']>0.6]), len(data))\n",
    "\n",
    "plt.xlim(-3, len(data)+2)\n",
    "plt.ylim(0, 1)\n",
    "\n",
    "plt.legend(loc=[1.02, 0])\n",
    "#plt.xlabel('rank')\n",
    "#plt.ylabel('average of sihouette coefficient')\n",
    "plt.xlabel('')\n",
    "plt.ylabel('')\n",
    "\n",
    "\n",
    "p.spines['right'].set_visible(False)\n",
    "p.spines['top'].set_visible(False)\n",
    "plt.legend(frameon=False, loc=[1.00, 0])\n",
    "\n",
    "plt.savefig('../Figure/Supplementary Figure2/Supplementary Figure2C.png', bbox_inches='tight', dpi=300)\n",
    "plt.savefig('../Figure/Supplementary Figure2/Supplementary Figure2C.pdf', bbox_inches='tight', transparent=True, dpi=300)\n"
   ]
  },
  {
   "cell_type": "markdown",
   "metadata": {},
   "source": [
    "## Supplementary Fig.2D"
   ]
  },
  {
   "cell_type": "code",
   "execution_count": 13,
   "metadata": {},
   "outputs": [
    {
     "data": {
      "image/png": "[encoded data removed]",
      "text/plain": [
       "<Figure size 550x350 with 1 Axes>"
      ]
     },
     "metadata": {},
     "output_type": "display_data"
    }
   ],
   "source": [
    "# LTR36\n",
    "fig = plt.figure(figsize=[5.5, 3.5])\n",
    "plt.rcParams[\"font.family\"] = \"Arial\"\n",
    "plt.rcParams[\"font.size\"] = 12\n",
    "\n",
    "family = 'LTR36'\n",
    "data = Dfam_RM_1st_step_fil[Dfam_RM_1st_step_fil['repeat family name']==family]\n",
    "UMAP = pd.read_csv('../data/subfamily classification/{}_trimming99_UMAP.csv'.format(family))\n",
    "x = UMAP['UMAP_1']\n",
    "y = UMAP['UMAP_2']\n",
    "hue = data['repeat adjusted cluster name'].values\n",
    "hue_order = sorted(pd.unique(hue))\n",
    "\n",
    "p = sns.scatterplot(x=x, y=y, hue=hue, hue_order=hue_order, s=12, linewidth=0)\n",
    "\n",
    "p.spines['right'].set_visible(False)\n",
    "p.spines['top'].set_visible(False)\n",
    "plt.legend(fontsize=10, frameon=False)\n",
    "\n",
    "plt.xlabel('')\n",
    "plt.ylabel('')\n",
    "\n",
    "plt.rcParams[\"font.family\"] = \"Arial\"\n",
    "plt.savefig('../Figure/Supplementary Figure2/Supplementary Figure2D.png', bbox_inches='tight', dpi=300)\n",
    "plt.savefig('../Figure/Supplementary Figure2/Supplementary Figure2D.pdf', bbox_inches='tight', transparent=True, dpi=300)"
   ]
  },
  {
   "cell_type": "code",
   "execution_count": null,
   "metadata": {},
   "outputs": [],
   "source": []
  },
  {
   "cell_type": "code",
   "execution_count": null,
   "metadata": {},
   "outputs": [],
   "source": []
  }
 ],
 "metadata": {
  "kernelspec": {
   "display_name": "base",
   "language": "python",
   "name": "python3"
  },
  "language_info": {
   "codemirror_mode": {
    "name": "ipython",
    "version": 3
   },
   "file_extension": ".py",
   "mimetype": "text/x-python",
   "name": "python",
   "nbconvert_exporter": "python",
   "pygments_lexer": "ipython3",
   "version": "3.9.13"
  }
 },
 "nbformat": 4,
 "nbformat_minor": 2
}
